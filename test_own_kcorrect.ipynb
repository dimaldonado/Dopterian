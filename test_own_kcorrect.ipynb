{
 "cells": [
  {
   "cell_type": "code",
   "execution_count": 2,
   "metadata": {},
   "outputs": [
    {
     "ename": "ValueError",
     "evalue": "responses_map must have the same number of elements as responses_out",
     "output_type": "error",
     "traceback": [
      "\u001b[1;31m---------------------------------------------------------------------------\u001b[0m",
      "\u001b[1;31mValueError\u001b[0m                                Traceback (most recent call last)",
      "Cell \u001b[1;32mIn[2], line 21\u001b[0m\n\u001b[0;32m     18\u001b[0m filter_list \u001b[38;5;241m=\u001b[39m [\u001b[38;5;124m'\u001b[39m\u001b[38;5;124msdss_u0\u001b[39m\u001b[38;5;124m'\u001b[39m, \u001b[38;5;124m'\u001b[39m\u001b[38;5;124msdss_g0\u001b[39m\u001b[38;5;124m'\u001b[39m, \u001b[38;5;124m'\u001b[39m\u001b[38;5;124msdss_r0\u001b[39m\u001b[38;5;124m'\u001b[39m,\u001b[38;5;124m'\u001b[39m\u001b[38;5;124msdss_i0\u001b[39m\u001b[38;5;124m'\u001b[39m]\n\u001b[0;32m     19\u001b[0m filter_list_out \u001b[38;5;241m=\u001b[39m [\u001b[38;5;124m'\u001b[39m\u001b[38;5;124msdss_i0\u001b[39m\u001b[38;5;124m'\u001b[39m]\n\u001b[1;32m---> 21\u001b[0m kc \u001b[38;5;241m=\u001b[39m \u001b[43mkcorrect\u001b[49m\u001b[38;5;241;43m.\u001b[39;49m\u001b[43mkcorrect\u001b[49m\u001b[38;5;241;43m.\u001b[39;49m\u001b[43mKcorrect\u001b[49m\u001b[43m(\u001b[49m\u001b[43mresponses\u001b[49m\u001b[38;5;241;43m=\u001b[39;49m\u001b[43mfilter_list\u001b[49m\u001b[43m,\u001b[49m\u001b[43m \u001b[49m\u001b[43mresponses_map\u001b[49m\u001b[38;5;241;43m=\u001b[39;49m\u001b[43mfilter_list\u001b[49m\u001b[43m,\u001b[49m\u001b[43m \u001b[49m\u001b[43mresponses_out\u001b[49m\u001b[38;5;241;43m=\u001b[39;49m\u001b[43mfilter_list_out\u001b[49m\u001b[43m)\u001b[49m\n\u001b[0;32m     22\u001b[0m coeffs \u001b[38;5;241m=\u001b[39m kc\u001b[38;5;241m.\u001b[39mfit_coeffs(data_filter_list, redshift, imerr)\n\u001b[0;32m     23\u001b[0m r_maggies \u001b[38;5;241m=\u001b[39m kc\u001b[38;5;241m.\u001b[39mreconstruct(coeffs, redshift, filter_list_out)\n",
      "File \u001b[1;32mc:\\Users\\diego\\AppData\\Local\\Programs\\Python\\Python311\\Lib\\site-packages\\kcorrect\\kcorrect.py:156\u001b[0m, in \u001b[0;36mKcorrect.__init__\u001b[1;34m(self, filename, responses, templates, responses_out, responses_map, redshift_range, nredshift, abcorrect, cosmo)\u001b[0m\n\u001b[0;32m    153\u001b[0m     responses_map \u001b[38;5;241m=\u001b[39m \u001b[38;5;28mself\u001b[39m\u001b[38;5;241m.\u001b[39mresponses\n\u001b[0;32m    155\u001b[0m \u001b[38;5;28;01mif\u001b[39;00m(\u001b[38;5;28mlen\u001b[39m(responses_map) \u001b[38;5;241m!=\u001b[39m \u001b[38;5;28mlen\u001b[39m(responses_out)):\n\u001b[1;32m--> 156\u001b[0m     \u001b[38;5;28;01mraise\u001b[39;00m \u001b[38;5;167;01mValueError\u001b[39;00m(\u001b[38;5;124m\"\u001b[39m\u001b[38;5;124mresponses_map must have the same number of elements as responses_out\u001b[39m\u001b[38;5;124m\"\u001b[39m)\n\u001b[0;32m    158\u001b[0m \u001b[38;5;28mself\u001b[39m\u001b[38;5;241m.\u001b[39mresponses_out \u001b[38;5;241m=\u001b[39m responses_out\n\u001b[0;32m    159\u001b[0m \u001b[38;5;28mself\u001b[39m\u001b[38;5;241m.\u001b[39mresponses_map \u001b[38;5;241m=\u001b[39m responses_map\n",
      "\u001b[1;31mValueError\u001b[0m: responses_map must have the same number of elements as responses_out"
     ]
    }
   ],
   "source": [
    "import kcorrect\n",
    "import kcorrections.kcorrections as kk\n",
    "import numpy as np\n",
    "from astropy.io import fits\n",
    "\n",
    "\n",
    "sci_image = r'D:\\Documentos\\Diego\\U\\Memoria Titulo\\Dopterian\\Input\\clash_a209_nir_0990_dopterian_input.fits'\n",
    "science_hdul = fits.open(sci_image)\n",
    "science_data = science_hdul[0].data\n",
    "science_header = science_hdul[0].header\n",
    "science_hdul.close()\n",
    "\n",
    "\n",
    "redshift = 0.2\n",
    "\n",
    "imerr= [1/np.sqrt(np.abs(science_data))]*4\n",
    "data_filter_list = [science_data,science_data,science_data,science_data]\n",
    "filter_list = ['sdss_u0', 'sdss_g0', 'sdss_r0','sdss_i0']\n",
    "filter_list_out = ['sdss_i0']\n",
    "\n",
    "kc = kcorrect.kcorrect.Kcorrect(responses_map=filter_list, responses_out=filter_list_out)\n",
    "coeffs = kc.fit_coeffs(data_filter_list, redshift, imerr)\n",
    "r_maggies = kc.reconstruct(coeffs, redshift, filter_list_out)\n",
    "print(r_maggies.shape)\n",
    "\n"
   ]
  },
  {
   "cell_type": "markdown",
   "metadata": {},
   "source": [
    "Funcion "
   ]
  }
 ],
 "metadata": {
  "kernelspec": {
   "display_name": "Python 3",
   "language": "python",
   "name": "python3"
  },
  "language_info": {
   "codemirror_mode": {
    "name": "ipython",
    "version": 3
   },
   "file_extension": ".py",
   "mimetype": "text/x-python",
   "name": "python",
   "nbconvert_exporter": "python",
   "pygments_lexer": "ipython3",
   "version": "3.11.2"
  }
 },
 "nbformat": 4,
 "nbformat_minor": 2
}
