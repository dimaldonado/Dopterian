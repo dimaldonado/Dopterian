{
 "cells": [
  {
   "cell_type": "code",
   "execution_count": 8,
   "metadata": {},
   "outputs": [
    {
     "name": "stdout",
     "output_type": "stream",
     "text": [
      "[6.0025757e+02 6.0077289e+02 6.0128870e+02 ... 3.1931410e+06 3.1958825e+06\n",
      " 3.1986262e+06]\n"
     ]
    }
   ],
   "source": [
    "import kcorrect\n",
    "import kcorrections.kcorrections as kk\n",
    "import numpy as np\n",
    "from astropy.io import fits\n",
    "\n",
    "\n",
    "sci_image = r'D:\\Documentos\\Diego\\U\\Memoria Titulo\\Dopterian\\Input\\clash_a209_nir_0990_dopterian_input.fits'\n",
    "science_hdul = fits.open(sci_image)\n",
    "science_data = science_hdul[0].data\n",
    "science_header = science_hdul[0].header\n",
    "science_hdul.close()\n",
    "\n",
    "\n",
    "redshift = 0.2\n",
    "imerr= [1/np.sqrt(np.abs(science_data))]*4\n",
    "data_filter_list = [science_data,science_data,science_data,science_data]\n",
    "filter_list = ['sdss_u0', 'sdss_g0', 'sdss_r0','sdss_i0']\n",
    "\n",
    "kk.kcorrect_image(data_filter_list,filter_list,redshift,imerr)\n"
   ]
  },
  {
   "cell_type": "markdown",
   "metadata": {},
   "source": [
    "Funcion "
   ]
  },
  {
   "cell_type": "code",
   "execution_count": 9,
   "metadata": {},
   "outputs": [],
   "source": [
    "if len(data_filter_list) != len(filter_list) or len(data_filter_list) != len(imerr):\n",
    "    raise ValueError(\"El número de matrices en data_filter_lis tdebe ser igual al numero de matrices en imerr e igual de strings en filter_list.\")\n",
    "\n",
    "if not all(((matrix.shape == data_filter_list[0].shape) and (matrix.shape==imerr[0].shape)) for matrix in data_filter_list):\n",
    "    raise ValueError(\"Todas las matrices en data_filter_list deben ser del mismo tamaño y el tamaño de imerr debe ser igual al de las matrices en data_filter_list.\")\n",
    "\n",
    "kc = kcorrect.kcorrect.Kcorrect(responses=filter_list)\n",
    "\n",
    "\n",
    "\n",
    "nbands = len(data_filter_list)\n",
    "shape_bands = data_filter_list[0].shape #tamaño de las matrices (bandas)\n"
   ]
  },
  {
   "cell_type": "code",
   "execution_count": 15,
   "metadata": {},
   "outputs": [
    {
     "name": "stdout",
     "output_type": "stream",
     "text": [
      "10000\n",
      "600.25757\n",
      "10000\n",
      "10000\n"
     ]
    }
   ],
   "source": [
    "print(len(kc.templates.wave))\n",
    "print(kc.templates.wave[0])\n",
    "print(len(kc.templates.restframe_wave))\n",
    "print(kc.templates.nwave)"
   ]
  }
 ],
 "metadata": {
  "kernelspec": {
   "display_name": "Python 3",
   "language": "python",
   "name": "python3"
  },
  "language_info": {
   "codemirror_mode": {
    "name": "ipython",
    "version": 3
   },
   "file_extension": ".py",
   "mimetype": "text/x-python",
   "name": "python",
   "nbconvert_exporter": "python",
   "pygments_lexer": "ipython3",
   "version": "3.11.2"
  }
 },
 "nbformat": 4,
 "nbformat_minor": 2
}
