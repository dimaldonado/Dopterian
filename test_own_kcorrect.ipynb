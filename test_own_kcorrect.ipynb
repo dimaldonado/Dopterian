{
 "cells": [
  {
   "cell_type": "code",
   "execution_count": 5,
   "metadata": {},
   "outputs": [
    {
     "ename": "TypeError",
     "evalue": "'NoneType' object is not iterable",
     "output_type": "error",
     "traceback": [
      "\u001b[1;31m---------------------------------------------------------------------------\u001b[0m",
      "\u001b[1;31mTypeError\u001b[0m                                 Traceback (most recent call last)",
      "Cell \u001b[1;32mIn[5], line 21\u001b[0m\n\u001b[0;32m     18\u001b[0m filter_list \u001b[38;5;241m=\u001b[39m [\u001b[38;5;124m'\u001b[39m\u001b[38;5;124msdss_u0\u001b[39m\u001b[38;5;124m'\u001b[39m, \u001b[38;5;124m'\u001b[39m\u001b[38;5;124msdss_g0\u001b[39m\u001b[38;5;124m'\u001b[39m, \u001b[38;5;124m'\u001b[39m\u001b[38;5;124msdss_r0\u001b[39m\u001b[38;5;124m'\u001b[39m,\u001b[38;5;124m'\u001b[39m\u001b[38;5;124msdss_i0\u001b[39m\u001b[38;5;124m'\u001b[39m]\n\u001b[0;32m     19\u001b[0m filter_list_out \u001b[38;5;241m=\u001b[39m [\u001b[38;5;124m'\u001b[39m\u001b[38;5;124msdss_i0\u001b[39m\u001b[38;5;124m'\u001b[39m]\n\u001b[1;32m---> 21\u001b[0m kc \u001b[38;5;241m=\u001b[39m \u001b[43mkcorrect\u001b[49m\u001b[38;5;241;43m.\u001b[39;49m\u001b[43mkcorrect\u001b[49m\u001b[38;5;241;43m.\u001b[39;49m\u001b[43mKcorrect\u001b[49m\u001b[43m(\u001b[49m\u001b[43mresponses_map\u001b[49m\u001b[38;5;241;43m=\u001b[39;49m\u001b[43mfilter_list\u001b[49m\u001b[43m,\u001b[49m\u001b[43m \u001b[49m\u001b[43mresponses_out\u001b[49m\u001b[38;5;241;43m=\u001b[39;49m\u001b[43mfilter_list_out\u001b[49m\u001b[43m)\u001b[49m\n\u001b[0;32m     22\u001b[0m coeffs \u001b[38;5;241m=\u001b[39m kc\u001b[38;5;241m.\u001b[39mfit_coeffs(data_filter_list, redshift, imerr)\n\u001b[0;32m     23\u001b[0m r_maggies \u001b[38;5;241m=\u001b[39m kc\u001b[38;5;241m.\u001b[39mreconstruct(coeffs, redshift, filter_list_out)\n",
      "File \u001b[1;32mc:\\Users\\diego\\AppData\\Local\\Programs\\Python\\Python311\\Lib\\site-packages\\kcorrect\\kcorrect.py:147\u001b[0m, in \u001b[0;36mKcorrect.__init__\u001b[1;34m(self, filename, responses, templates, responses_out, responses_map, redshift_range, nredshift, abcorrect, cosmo)\u001b[0m\n\u001b[0;32m    142\u001b[0m \u001b[38;5;28msuper\u001b[39m()\u001b[38;5;241m.\u001b[39m\u001b[38;5;21m__init__\u001b[39m(responses\u001b[38;5;241m=\u001b[39mresponses, templates\u001b[38;5;241m=\u001b[39mtemplates,\n\u001b[0;32m    143\u001b[0m                  redshift_range\u001b[38;5;241m=\u001b[39mredshift_range,\n\u001b[0;32m    144\u001b[0m                  nredshift\u001b[38;5;241m=\u001b[39mnredshift, abcorrect\u001b[38;5;241m=\u001b[39mabcorrect)\n\u001b[0;32m    146\u001b[0m \u001b[38;5;66;03m# Set up the Amatrix for the input responses\u001b[39;00m\n\u001b[1;32m--> 147\u001b[0m \u001b[38;5;28;43mself\u001b[39;49m\u001b[38;5;241;43m.\u001b[39;49m\u001b[43mset_Amatrix\u001b[49m\u001b[43m(\u001b[49m\u001b[43m)\u001b[49m\n\u001b[0;32m    149\u001b[0m \u001b[38;5;66;03m# Set up the output responses\u001b[39;00m\n\u001b[0;32m    150\u001b[0m \u001b[38;5;28;01mif\u001b[39;00m(responses_out \u001b[38;5;129;01mis\u001b[39;00m \u001b[38;5;28;01mNone\u001b[39;00m):\n",
      "File \u001b[1;32mc:\\Users\\diego\\AppData\\Local\\Programs\\Python\\Python311\\Lib\\site-packages\\kcorrect\\fitter.py:140\u001b[0m, in \u001b[0;36mFitter.set_Amatrix\u001b[1;34m(self)\u001b[0m\n\u001b[0;32m    138\u001b[0m \u001b[38;5;28;01mdef\u001b[39;00m \u001b[38;5;21mset_Amatrix\u001b[39m(\u001b[38;5;28mself\u001b[39m):\n\u001b[0;32m    139\u001b[0m \u001b[38;5;250m    \u001b[39m\u001b[38;5;124;03m\"\"\"Set Amatrix, interpolator for the design matrix\"\"\"\u001b[39;00m\n\u001b[1;32m--> 140\u001b[0m     \u001b[38;5;28mself\u001b[39m\u001b[38;5;241m.\u001b[39mAmatrix \u001b[38;5;241m=\u001b[39m \u001b[38;5;28;43mself\u001b[39;49m\u001b[38;5;241;43m.\u001b[39;49m\u001b[43m_calc_Amatrix\u001b[49m\u001b[43m(\u001b[49m\u001b[43mresponses\u001b[49m\u001b[38;5;241;43m=\u001b[39;49m\u001b[38;5;28;43mself\u001b[39;49m\u001b[38;5;241;43m.\u001b[39;49m\u001b[43mresponses\u001b[49m\u001b[43m)\u001b[49m\n\u001b[0;32m    142\u001b[0m     \u001b[38;5;28;01mreturn\u001b[39;00m\n",
      "File \u001b[1;32mc:\\Users\\diego\\AppData\\Local\\Programs\\Python\\Python311\\Lib\\site-packages\\kcorrect\\fitter.py:84\u001b[0m, in \u001b[0;36mFitter._calc_Amatrix\u001b[1;34m(self, responses)\u001b[0m\n\u001b[0;32m     82\u001b[0m \u001b[38;5;66;03m# Make sure responses are loaded\u001b[39;00m\n\u001b[0;32m     83\u001b[0m f \u001b[38;5;241m=\u001b[39m kcorrect\u001b[38;5;241m.\u001b[39mresponse\u001b[38;5;241m.\u001b[39mResponseDict()\n\u001b[1;32m---> 84\u001b[0m \u001b[38;5;28;01mfor\u001b[39;00m response \u001b[38;5;129;01min\u001b[39;00m responses:\n\u001b[0;32m     85\u001b[0m     f\u001b[38;5;241m.\u001b[39mload_response(response)\n\u001b[0;32m     87\u001b[0m \u001b[38;5;66;03m# Create rmatrix\u001b[39;00m\n",
      "\u001b[1;31mTypeError\u001b[0m: 'NoneType' object is not iterable"
     ]
    }
   ],
   "source": [
    "import kcorrect\n",
    "import kcorrections.kcorrections as kk\n",
    "import numpy as np\n",
    "from astropy.io import fits\n",
    "\n",
    "\n",
    "sci_image = r'D:\\Documentos\\Diego\\U\\Memoria Titulo\\Dopterian\\Input\\clash_a209_nir_0990_dopterian_input.fits'\n",
    "science_hdul = fits.open(sci_image)\n",
    "science_data = science_hdul[0].data\n",
    "science_header = science_hdul[0].header\n",
    "science_hdul.close()\n",
    "\n",
    "\n",
    "redshift = 0.2\n",
    "\n",
    "imerr= [1/np.sqrt(np.abs(science_data))]*4\n",
    "data_filter_list = [science_data,science_data,science_data,science_data]\n",
    "filter_list = ['sdss_u0', 'sdss_g0', 'sdss_r0','sdss_i0']\n",
    "filter_list_out = ['sdss_i0']\n",
    "\n",
    "kc = kcorrect.kcorrect.Kcorrect(responses_map=filter_list, responses_out=filter_list_out)\n",
    "coeffs = kc.fit_coeffs(data_filter_list, redshift, imerr)\n",
    "r_maggies = kc.reconstruct(coeffs, redshift, filter_list_out)\n",
    "print(r_maggies.shape)\n",
    "\n"
   ]
  },
  {
   "cell_type": "markdown",
   "metadata": {},
   "source": [
    "Funcion "
   ]
  }
 ],
 "metadata": {
  "kernelspec": {
   "display_name": "Python 3",
   "language": "python",
   "name": "python3"
  },
  "language_info": {
   "codemirror_mode": {
    "name": "ipython",
    "version": 3
   },
   "file_extension": ".py",
   "mimetype": "text/x-python",
   "name": "python",
   "nbconvert_exporter": "python",
   "pygments_lexer": "ipython3",
   "version": "3.11.2"
  }
 },
 "nbformat": 4,
 "nbformat_minor": 2
}
